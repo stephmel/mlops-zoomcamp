{
 "cells": [
  {
   "cell_type": "code",
   "id": "initial_id",
   "metadata": {
    "collapsed": true,
    "ExecuteTime": {
     "end_time": "2024-05-19T17:28:10.847193Z",
     "start_time": "2024-05-19T17:28:10.268366Z"
    }
   },
   "source": [
    "import pandas as pd\n",
    "from sklearn.preprocessing import OneHotEncoder\n",
    "from sklearn.linear_model import LinearRegression\n",
    "from sklearn.metrics import root_mean_squared_error"
   ],
   "outputs": [],
   "execution_count": 1
  },
  {
   "metadata": {
    "ExecuteTime": {
     "end_time": "2024-05-19T17:28:11.083239Z",
     "start_time": "2024-05-19T17:28:10.848810Z"
    }
   },
   "cell_type": "code",
   "source": [
    "# Q1 Download 2023-01 yellow tripdata\n",
    "dfh = pd.read_parquet('../data/yellow_tripdata_2023-01.parquet')\n",
    "dfh.sample(5)"
   ],
   "id": "d1d3a95da7c1da14",
   "outputs": [
    {
     "data": {
      "text/plain": [
       "         VendorID tpep_pickup_datetime tpep_dropoff_datetime  passenger_count  \\\n",
       "305574          2  2023-01-04 21:51:56   2023-01-04 22:03:44              1.0   \n",
       "2639236         1  2023-01-28 08:16:56   2023-01-28 08:20:52              2.0   \n",
       "1571732         2  2023-01-17 20:04:32   2023-01-17 20:15:25              2.0   \n",
       "1800656         2  2023-01-20 00:29:59   2023-01-20 00:32:27              1.0   \n",
       "1711928         2  2023-01-19 10:38:47   2023-01-19 10:54:25              1.0   \n",
       "\n",
       "         trip_distance  RatecodeID store_and_fwd_flag  PULocationID  \\\n",
       "305574            2.59         1.0                  N            50   \n",
       "2639236           1.30         1.0                  N           229   \n",
       "1571732           1.31         1.0                  N           162   \n",
       "1800656           0.47         1.0                  N           164   \n",
       "1711928           1.45         1.0                  N           249   \n",
       "\n",
       "         DOLocationID  payment_type  fare_amount  extra  mta_tax  tip_amount  \\\n",
       "305574            137             1         14.9    1.0      0.5         1.0   \n",
       "2639236           141             1          7.2    2.5      0.5         2.2   \n",
       "1571732            48             1         11.4    2.5      0.5         1.0   \n",
       "1800656           161             4         -5.1   -1.0     -0.5         0.0   \n",
       "1711928           137             2         14.2    0.0      0.5         0.0   \n",
       "\n",
       "         tolls_amount  improvement_surcharge  total_amount  \\\n",
       "305574            0.0                    1.0          20.9   \n",
       "2639236           0.0                    1.0          13.4   \n",
       "1571732           0.0                    1.0          18.9   \n",
       "1800656           0.0                   -1.0         -10.1   \n",
       "1711928           0.0                    1.0          18.2   \n",
       "\n",
       "         congestion_surcharge  airport_fee  \n",
       "305574                    2.5          0.0  \n",
       "2639236                   2.5          0.0  \n",
       "1571732                   2.5          0.0  \n",
       "1800656                  -2.5          0.0  \n",
       "1711928                   2.5          0.0  "
      ],
      "text/html": [
       "<div>\n",
       "<style scoped>\n",
       "    .dataframe tbody tr th:only-of-type {\n",
       "        vertical-align: middle;\n",
       "    }\n",
       "\n",
       "    .dataframe tbody tr th {\n",
       "        vertical-align: top;\n",
       "    }\n",
       "\n",
       "    .dataframe thead th {\n",
       "        text-align: right;\n",
       "    }\n",
       "</style>\n",
       "<table border=\"1\" class=\"dataframe\">\n",
       "  <thead>\n",
       "    <tr style=\"text-align: right;\">\n",
       "      <th></th>\n",
       "      <th>VendorID</th>\n",
       "      <th>tpep_pickup_datetime</th>\n",
       "      <th>tpep_dropoff_datetime</th>\n",
       "      <th>passenger_count</th>\n",
       "      <th>trip_distance</th>\n",
       "      <th>RatecodeID</th>\n",
       "      <th>store_and_fwd_flag</th>\n",
       "      <th>PULocationID</th>\n",
       "      <th>DOLocationID</th>\n",
       "      <th>payment_type</th>\n",
       "      <th>fare_amount</th>\n",
       "      <th>extra</th>\n",
       "      <th>mta_tax</th>\n",
       "      <th>tip_amount</th>\n",
       "      <th>tolls_amount</th>\n",
       "      <th>improvement_surcharge</th>\n",
       "      <th>total_amount</th>\n",
       "      <th>congestion_surcharge</th>\n",
       "      <th>airport_fee</th>\n",
       "    </tr>\n",
       "  </thead>\n",
       "  <tbody>\n",
       "    <tr>\n",
       "      <th>305574</th>\n",
       "      <td>2</td>\n",
       "      <td>2023-01-04 21:51:56</td>\n",
       "      <td>2023-01-04 22:03:44</td>\n",
       "      <td>1.0</td>\n",
       "      <td>2.59</td>\n",
       "      <td>1.0</td>\n",
       "      <td>N</td>\n",
       "      <td>50</td>\n",
       "      <td>137</td>\n",
       "      <td>1</td>\n",
       "      <td>14.9</td>\n",
       "      <td>1.0</td>\n",
       "      <td>0.5</td>\n",
       "      <td>1.0</td>\n",
       "      <td>0.0</td>\n",
       "      <td>1.0</td>\n",
       "      <td>20.9</td>\n",
       "      <td>2.5</td>\n",
       "      <td>0.0</td>\n",
       "    </tr>\n",
       "    <tr>\n",
       "      <th>2639236</th>\n",
       "      <td>1</td>\n",
       "      <td>2023-01-28 08:16:56</td>\n",
       "      <td>2023-01-28 08:20:52</td>\n",
       "      <td>2.0</td>\n",
       "      <td>1.30</td>\n",
       "      <td>1.0</td>\n",
       "      <td>N</td>\n",
       "      <td>229</td>\n",
       "      <td>141</td>\n",
       "      <td>1</td>\n",
       "      <td>7.2</td>\n",
       "      <td>2.5</td>\n",
       "      <td>0.5</td>\n",
       "      <td>2.2</td>\n",
       "      <td>0.0</td>\n",
       "      <td>1.0</td>\n",
       "      <td>13.4</td>\n",
       "      <td>2.5</td>\n",
       "      <td>0.0</td>\n",
       "    </tr>\n",
       "    <tr>\n",
       "      <th>1571732</th>\n",
       "      <td>2</td>\n",
       "      <td>2023-01-17 20:04:32</td>\n",
       "      <td>2023-01-17 20:15:25</td>\n",
       "      <td>2.0</td>\n",
       "      <td>1.31</td>\n",
       "      <td>1.0</td>\n",
       "      <td>N</td>\n",
       "      <td>162</td>\n",
       "      <td>48</td>\n",
       "      <td>1</td>\n",
       "      <td>11.4</td>\n",
       "      <td>2.5</td>\n",
       "      <td>0.5</td>\n",
       "      <td>1.0</td>\n",
       "      <td>0.0</td>\n",
       "      <td>1.0</td>\n",
       "      <td>18.9</td>\n",
       "      <td>2.5</td>\n",
       "      <td>0.0</td>\n",
       "    </tr>\n",
       "    <tr>\n",
       "      <th>1800656</th>\n",
       "      <td>2</td>\n",
       "      <td>2023-01-20 00:29:59</td>\n",
       "      <td>2023-01-20 00:32:27</td>\n",
       "      <td>1.0</td>\n",
       "      <td>0.47</td>\n",
       "      <td>1.0</td>\n",
       "      <td>N</td>\n",
       "      <td>164</td>\n",
       "      <td>161</td>\n",
       "      <td>4</td>\n",
       "      <td>-5.1</td>\n",
       "      <td>-1.0</td>\n",
       "      <td>-0.5</td>\n",
       "      <td>0.0</td>\n",
       "      <td>0.0</td>\n",
       "      <td>-1.0</td>\n",
       "      <td>-10.1</td>\n",
       "      <td>-2.5</td>\n",
       "      <td>0.0</td>\n",
       "    </tr>\n",
       "    <tr>\n",
       "      <th>1711928</th>\n",
       "      <td>2</td>\n",
       "      <td>2023-01-19 10:38:47</td>\n",
       "      <td>2023-01-19 10:54:25</td>\n",
       "      <td>1.0</td>\n",
       "      <td>1.45</td>\n",
       "      <td>1.0</td>\n",
       "      <td>N</td>\n",
       "      <td>249</td>\n",
       "      <td>137</td>\n",
       "      <td>2</td>\n",
       "      <td>14.2</td>\n",
       "      <td>0.0</td>\n",
       "      <td>0.5</td>\n",
       "      <td>0.0</td>\n",
       "      <td>0.0</td>\n",
       "      <td>1.0</td>\n",
       "      <td>18.2</td>\n",
       "      <td>2.5</td>\n",
       "      <td>0.0</td>\n",
       "    </tr>\n",
       "  </tbody>\n",
       "</table>\n",
       "</div>"
      ]
     },
     "execution_count": 2,
     "metadata": {},
     "output_type": "execute_result"
    }
   ],
   "execution_count": 2
  },
  {
   "metadata": {
    "ExecuteTime": {
     "end_time": "2024-05-19T17:28:11.087674Z",
     "start_time": "2024-05-19T17:28:11.084578Z"
    }
   },
   "cell_type": "code",
   "source": "print(f\">> Answer 1: Our data file contains {len(dfh.columns)} columns\")",
   "id": "6775785b62b8489f",
   "outputs": [
    {
     "name": "stdout",
     "output_type": "stream",
     "text": [
      ">> Answer 1: Our data file contains 19 columns\n"
     ]
    }
   ],
   "execution_count": 3
  },
  {
   "metadata": {
    "ExecuteTime": {
     "end_time": "2024-05-19T17:28:11.282523Z",
     "start_time": "2024-05-19T17:28:11.088941Z"
    }
   },
   "cell_type": "code",
   "source": [
    "# Q2 Computing Duration, std with outliers\n",
    "dfh['duration'] = dfh.tpep_dropoff_datetime - dfh.tpep_pickup_datetime\n",
    "dfh['duration'] = dfh.duration.dt.total_seconds() / 60\n",
    "\n",
    "count_with_outliers  = dfh.duration.describe()[\"count\"]\n",
    "round(dfh.duration.describe([.9, .92, .95, .98]), 2)"
   ],
   "id": "9d9594498a1b5bde",
   "outputs": [
    {
     "data": {
      "text/plain": [
       "count    3066766.00\n",
       "mean          15.67\n",
       "std           42.59\n",
       "min          -29.20\n",
       "50%           11.52\n",
       "90%           27.94\n",
       "92%           30.55\n",
       "95%           36.47\n",
       "98%           48.73\n",
       "max        10029.18\n",
       "Name: duration, dtype: float64"
      ]
     },
     "execution_count": 4,
     "metadata": {},
     "output_type": "execute_result"
    }
   ],
   "execution_count": 4
  },
  {
   "metadata": {
    "ExecuteTime": {
     "end_time": "2024-05-19T17:28:11.363098Z",
     "start_time": "2024-05-19T17:28:11.284768Z"
    }
   },
   "cell_type": "code",
   "source": "print(f\">> Answer 2: The duration's standard deviation is {round(dfh.duration.describe()[\"std\"], 2)} minutes\")",
   "id": "22370400ed3025a6",
   "outputs": [
    {
     "name": "stdout",
     "output_type": "stream",
     "text": [
      ">> Answer 2: The duration's standard deviation is 42.59 minutes\n"
     ]
    }
   ],
   "execution_count": 5
  },
  {
   "metadata": {
    "ExecuteTime": {
     "end_time": "2024-05-19T17:28:11.636229Z",
     "start_time": "2024-05-19T17:28:11.364521Z"
    }
   },
   "cell_type": "code",
   "source": [
    "# Q3 Dropping Outliers\n",
    "def duration_feature(df: pd.DataFrame):\n",
    "    df['duration'] = df.tpep_dropoff_datetime - df.tpep_pickup_datetime\n",
    "    df['duration'] = df.duration.dt.total_seconds() / 60\n",
    "    return df[(df.duration >= 1) & (df.duration <= 60)]\n",
    "\n",
    "dfh = duration_feature(dfh)\n",
    "round(dfh.duration.describe([.9, .92, .95, .98]), 2)"
   ],
   "id": "9bfa4afc5a54145",
   "outputs": [
    {
     "data": {
      "text/plain": [
       "count    3009173.00\n",
       "mean          14.20\n",
       "std            9.94\n",
       "min            1.00\n",
       "50%           11.55\n",
       "90%           27.27\n",
       "92%           29.65\n",
       "95%           34.77\n",
       "98%           44.50\n",
       "max           60.00\n",
       "Name: duration, dtype: float64"
      ]
     },
     "execution_count": 6,
     "metadata": {},
     "output_type": "execute_result"
    }
   ],
   "execution_count": 6
  },
  {
   "metadata": {
    "ExecuteTime": {
     "end_time": "2024-05-19T17:28:11.641395Z",
     "start_time": "2024-05-19T17:28:11.637723Z"
    }
   },
   "cell_type": "code",
   "source": "print(f\">> After removing the outliers, {(round(len(dfh)/count_with_outliers, 2))*100}% of the inital records are left\")",
   "id": "b26bfb1e7dc1709c",
   "outputs": [
    {
     "name": "stdout",
     "output_type": "stream",
     "text": [
      ">> After removing the outliers, 98.0% of the inital records are left\n"
     ]
    }
   ],
   "execution_count": 7
  },
  {
   "metadata": {
    "ExecuteTime": {
     "end_time": "2024-05-19T17:28:12.248312Z",
     "start_time": "2024-05-19T17:28:11.642770Z"
    }
   },
   "cell_type": "code",
   "source": [
    "# Q4 OneHot Encoding, straightforwardly used pd.get_dummies instead of vectorizer\n",
    "def one_hot(df: pd.DataFrame):\n",
    "    dummy_var1 = pd.get_dummies(df[\"PULocationID\"])\n",
    "    dummy_var2 = pd.get_dummies(df[\"DOLocationID\"])\n",
    "\n",
    "    return pd.concat([dummy_var1, dummy_var2], axis=1)\n",
    "\n",
    "features = one_hot(dfh)"
   ],
   "id": "cfcc10feb94228a6",
   "outputs": [],
   "execution_count": 8
  },
  {
   "metadata": {
    "ExecuteTime": {
     "end_time": "2024-05-19T17:28:12.254550Z",
     "start_time": "2024-05-19T17:28:12.250037Z"
    }
   },
   "cell_type": "code",
   "source": "print(f\">> The dimensonality of the feature matrix is {features.shape[1]}\")",
   "id": "abe7914a5d6c1ce",
   "outputs": [
    {
     "name": "stdout",
     "output_type": "stream",
     "text": [
      ">> The dimensonality of the feature matrix is 515\n"
     ]
    }
   ],
   "execution_count": 9
  },
  {
   "metadata": {
    "ExecuteTime": {
     "end_time": "2024-05-19T17:28:31.600529Z",
     "start_time": "2024-05-19T17:28:12.256216Z"
    }
   },
   "cell_type": "code",
   "source": [
    "# Q5 Model Training, (plus again OneHot Encoding, but with sklearn)\n",
    "enc = OneHotEncoder(handle_unknown='ignore')\n",
    "model = LinearRegression()\n",
    "\n",
    "X_train = enc.fit_transform(dfh[['PULocationID', 'DOLocationID']].astype('str'))\n",
    "y_train = dfh['duration'].values\n",
    "model.fit(X_train, y_train)\n",
    "\n",
    "y_pred = model.predict(X_train)\n",
    "print(f\">> RMSE on the training data is {round(root_mean_squared_error(y_train, y_pred), 2)} minutes\")"
   ],
   "id": "e427fc10c1a6e530",
   "outputs": [
    {
     "name": "stdout",
     "output_type": "stream",
     "text": [
      ">> RMSE on the training data is 7.65 minutes\n"
     ]
    }
   ],
   "execution_count": 10
  },
  {
   "metadata": {
    "ExecuteTime": {
     "end_time": "2024-05-19T17:28:34.382089Z",
     "start_time": "2024-05-19T17:28:31.601520Z"
    }
   },
   "cell_type": "code",
   "source": [
    "# Q6 Validation Set Evaluation\n",
    "dfval = duration_feature(pd.read_parquet('../data/yellow_tripdata_2023-02.parquet'))\n",
    "\n",
    "X_val = enc.transform(dfval[['PULocationID', 'DOLocationID']].astype('str'))\n",
    "y_val = model.predict(X_val)\n",
    "\n",
    "print(f\">> RMSE for validation data is {round(root_mean_squared_error(dfval[\"duration\"].values, y_val), 2)} minutes\")"
   ],
   "id": "5fb36d18f9901de7",
   "outputs": [
    {
     "name": "stdout",
     "output_type": "stream",
     "text": [
      ">> RMSE for validation data is 7.81 minutes\n"
     ]
    }
   ],
   "execution_count": 11
  }
 ],
 "metadata": {
  "kernelspec": {
   "display_name": "Python 3",
   "language": "python",
   "name": "python3"
  },
  "language_info": {
   "codemirror_mode": {
    "name": "ipython",
    "version": 2
   },
   "file_extension": ".py",
   "mimetype": "text/x-python",
   "name": "python",
   "nbconvert_exporter": "python",
   "pygments_lexer": "ipython2",
   "version": "2.7.6"
  }
 },
 "nbformat": 4,
 "nbformat_minor": 5
}
