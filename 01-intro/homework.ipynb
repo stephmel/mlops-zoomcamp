{
 "cells": [
  {
   "cell_type": "code",
   "id": "initial_id",
   "metadata": {
    "collapsed": true,
    "ExecuteTime": {
     "end_time": "2024-05-19T18:05:01.075610Z",
     "start_time": "2024-05-19T18:05:00.364422Z"
    }
   },
   "source": [
    "import pandas as pd\n",
    "from sklearn.preprocessing import OneHotEncoder\n",
    "from sklearn.linear_model import LinearRegression\n",
    "from sklearn.metrics import root_mean_squared_error"
   ],
   "outputs": [],
   "execution_count": 1
  },
  {
   "metadata": {
    "ExecuteTime": {
     "end_time": "2024-05-19T18:05:01.327834Z",
     "start_time": "2024-05-19T18:05:01.077644Z"
    }
   },
   "cell_type": "code",
   "source": [
    "# Q1 Download 2023-01 yellow tripdata\n",
    "dfh = pd.read_parquet('../data/yellow_tripdata_2023-01.parquet')\n",
    "dfh.sample(5)"
   ],
   "id": "d1d3a95da7c1da14",
   "outputs": [
    {
     "data": {
      "text/plain": [
       "         VendorID tpep_pickup_datetime tpep_dropoff_datetime  passenger_count  \\\n",
       "1365876         2  2023-01-15 15:53:28   2023-01-15 16:12:28              1.0   \n",
       "1906945         2  2023-01-21 00:58:53   2023-01-21 01:07:43              2.0   \n",
       "1310794         2  2023-01-14 23:19:36   2023-01-14 23:37:12              1.0   \n",
       "922413          1  2023-01-11 14:50:24   2023-01-11 15:03:45              1.0   \n",
       "2787731         2  2023-01-29 16:52:48   2023-01-29 17:00:23              1.0   \n",
       "\n",
       "         trip_distance  RatecodeID store_and_fwd_flag  PULocationID  \\\n",
       "1365876           3.65         1.0                  N           140   \n",
       "1906945           2.44         1.0                  N           249   \n",
       "1310794           3.23         1.0                  N           249   \n",
       "922413            2.60         1.0                  N            48   \n",
       "2787731           1.21         1.0                  N           237   \n",
       "\n",
       "         DOLocationID  payment_type  fare_amount  extra  mta_tax  tip_amount  \\\n",
       "1365876           151             1         19.8    0.0      0.5        4.76   \n",
       "1906945           158             2         12.1    1.0      0.5        0.00   \n",
       "1310794           233             1         18.4    1.0      0.5        4.68   \n",
       "922413            238             1         14.9    2.5      0.5        2.50   \n",
       "2787731           161             1          9.3    0.0      0.5        2.66   \n",
       "\n",
       "         tolls_amount  improvement_surcharge  total_amount  \\\n",
       "1365876           0.0                    1.0         28.56   \n",
       "1906945           0.0                    1.0         17.10   \n",
       "1310794           0.0                    1.0         28.08   \n",
       "922413            0.0                    1.0         21.40   \n",
       "2787731           0.0                    1.0         15.96   \n",
       "\n",
       "         congestion_surcharge  airport_fee  \n",
       "1365876                   2.5          0.0  \n",
       "1906945                   2.5          0.0  \n",
       "1310794                   2.5          0.0  \n",
       "922413                    2.5          0.0  \n",
       "2787731                   2.5          0.0  "
      ],
      "text/html": [
       "<div>\n",
       "<style scoped>\n",
       "    .dataframe tbody tr th:only-of-type {\n",
       "        vertical-align: middle;\n",
       "    }\n",
       "\n",
       "    .dataframe tbody tr th {\n",
       "        vertical-align: top;\n",
       "    }\n",
       "\n",
       "    .dataframe thead th {\n",
       "        text-align: right;\n",
       "    }\n",
       "</style>\n",
       "<table border=\"1\" class=\"dataframe\">\n",
       "  <thead>\n",
       "    <tr style=\"text-align: right;\">\n",
       "      <th></th>\n",
       "      <th>VendorID</th>\n",
       "      <th>tpep_pickup_datetime</th>\n",
       "      <th>tpep_dropoff_datetime</th>\n",
       "      <th>passenger_count</th>\n",
       "      <th>trip_distance</th>\n",
       "      <th>RatecodeID</th>\n",
       "      <th>store_and_fwd_flag</th>\n",
       "      <th>PULocationID</th>\n",
       "      <th>DOLocationID</th>\n",
       "      <th>payment_type</th>\n",
       "      <th>fare_amount</th>\n",
       "      <th>extra</th>\n",
       "      <th>mta_tax</th>\n",
       "      <th>tip_amount</th>\n",
       "      <th>tolls_amount</th>\n",
       "      <th>improvement_surcharge</th>\n",
       "      <th>total_amount</th>\n",
       "      <th>congestion_surcharge</th>\n",
       "      <th>airport_fee</th>\n",
       "    </tr>\n",
       "  </thead>\n",
       "  <tbody>\n",
       "    <tr>\n",
       "      <th>1365876</th>\n",
       "      <td>2</td>\n",
       "      <td>2023-01-15 15:53:28</td>\n",
       "      <td>2023-01-15 16:12:28</td>\n",
       "      <td>1.0</td>\n",
       "      <td>3.65</td>\n",
       "      <td>1.0</td>\n",
       "      <td>N</td>\n",
       "      <td>140</td>\n",
       "      <td>151</td>\n",
       "      <td>1</td>\n",
       "      <td>19.8</td>\n",
       "      <td>0.0</td>\n",
       "      <td>0.5</td>\n",
       "      <td>4.76</td>\n",
       "      <td>0.0</td>\n",
       "      <td>1.0</td>\n",
       "      <td>28.56</td>\n",
       "      <td>2.5</td>\n",
       "      <td>0.0</td>\n",
       "    </tr>\n",
       "    <tr>\n",
       "      <th>1906945</th>\n",
       "      <td>2</td>\n",
       "      <td>2023-01-21 00:58:53</td>\n",
       "      <td>2023-01-21 01:07:43</td>\n",
       "      <td>2.0</td>\n",
       "      <td>2.44</td>\n",
       "      <td>1.0</td>\n",
       "      <td>N</td>\n",
       "      <td>249</td>\n",
       "      <td>158</td>\n",
       "      <td>2</td>\n",
       "      <td>12.1</td>\n",
       "      <td>1.0</td>\n",
       "      <td>0.5</td>\n",
       "      <td>0.00</td>\n",
       "      <td>0.0</td>\n",
       "      <td>1.0</td>\n",
       "      <td>17.10</td>\n",
       "      <td>2.5</td>\n",
       "      <td>0.0</td>\n",
       "    </tr>\n",
       "    <tr>\n",
       "      <th>1310794</th>\n",
       "      <td>2</td>\n",
       "      <td>2023-01-14 23:19:36</td>\n",
       "      <td>2023-01-14 23:37:12</td>\n",
       "      <td>1.0</td>\n",
       "      <td>3.23</td>\n",
       "      <td>1.0</td>\n",
       "      <td>N</td>\n",
       "      <td>249</td>\n",
       "      <td>233</td>\n",
       "      <td>1</td>\n",
       "      <td>18.4</td>\n",
       "      <td>1.0</td>\n",
       "      <td>0.5</td>\n",
       "      <td>4.68</td>\n",
       "      <td>0.0</td>\n",
       "      <td>1.0</td>\n",
       "      <td>28.08</td>\n",
       "      <td>2.5</td>\n",
       "      <td>0.0</td>\n",
       "    </tr>\n",
       "    <tr>\n",
       "      <th>922413</th>\n",
       "      <td>1</td>\n",
       "      <td>2023-01-11 14:50:24</td>\n",
       "      <td>2023-01-11 15:03:45</td>\n",
       "      <td>1.0</td>\n",
       "      <td>2.60</td>\n",
       "      <td>1.0</td>\n",
       "      <td>N</td>\n",
       "      <td>48</td>\n",
       "      <td>238</td>\n",
       "      <td>1</td>\n",
       "      <td>14.9</td>\n",
       "      <td>2.5</td>\n",
       "      <td>0.5</td>\n",
       "      <td>2.50</td>\n",
       "      <td>0.0</td>\n",
       "      <td>1.0</td>\n",
       "      <td>21.40</td>\n",
       "      <td>2.5</td>\n",
       "      <td>0.0</td>\n",
       "    </tr>\n",
       "    <tr>\n",
       "      <th>2787731</th>\n",
       "      <td>2</td>\n",
       "      <td>2023-01-29 16:52:48</td>\n",
       "      <td>2023-01-29 17:00:23</td>\n",
       "      <td>1.0</td>\n",
       "      <td>1.21</td>\n",
       "      <td>1.0</td>\n",
       "      <td>N</td>\n",
       "      <td>237</td>\n",
       "      <td>161</td>\n",
       "      <td>1</td>\n",
       "      <td>9.3</td>\n",
       "      <td>0.0</td>\n",
       "      <td>0.5</td>\n",
       "      <td>2.66</td>\n",
       "      <td>0.0</td>\n",
       "      <td>1.0</td>\n",
       "      <td>15.96</td>\n",
       "      <td>2.5</td>\n",
       "      <td>0.0</td>\n",
       "    </tr>\n",
       "  </tbody>\n",
       "</table>\n",
       "</div>"
      ]
     },
     "execution_count": 2,
     "metadata": {},
     "output_type": "execute_result"
    }
   ],
   "execution_count": 2
  },
  {
   "metadata": {
    "ExecuteTime": {
     "end_time": "2024-05-19T18:05:01.332207Z",
     "start_time": "2024-05-19T18:05:01.329153Z"
    }
   },
   "cell_type": "code",
   "source": "print(f\">> Answer 1: Our data file contains {len(dfh.columns)} columns\")",
   "id": "6775785b62b8489f",
   "outputs": [
    {
     "name": "stdout",
     "output_type": "stream",
     "text": [
      ">> Answer 1: Our data file contains 19 columns\n"
     ]
    }
   ],
   "execution_count": 3
  },
  {
   "metadata": {
    "ExecuteTime": {
     "end_time": "2024-05-19T18:05:01.530129Z",
     "start_time": "2024-05-19T18:05:01.333459Z"
    }
   },
   "cell_type": "code",
   "source": [
    "# Q2 Computing Duration, std with outliers\n",
    "dfh['duration'] = dfh.tpep_dropoff_datetime - dfh.tpep_pickup_datetime\n",
    "dfh['duration'] = dfh.duration.dt.total_seconds() / 60\n",
    "\n",
    "count_with_outliers  = dfh.duration.describe()[\"count\"]\n",
    "round(dfh.duration.describe([.9, .92, .95, .98]), 2)"
   ],
   "id": "9d9594498a1b5bde",
   "outputs": [
    {
     "data": {
      "text/plain": [
       "count    3066766.00\n",
       "mean          15.67\n",
       "std           42.59\n",
       "min          -29.20\n",
       "50%           11.52\n",
       "90%           27.94\n",
       "92%           30.55\n",
       "95%           36.47\n",
       "98%           48.73\n",
       "max        10029.18\n",
       "Name: duration, dtype: float64"
      ]
     },
     "execution_count": 4,
     "metadata": {},
     "output_type": "execute_result"
    }
   ],
   "execution_count": 4
  },
  {
   "metadata": {
    "ExecuteTime": {
     "end_time": "2024-05-19T18:05:01.608419Z",
     "start_time": "2024-05-19T18:05:01.532680Z"
    }
   },
   "cell_type": "code",
   "source": "print(f\">> Answer 2: The duration's standard deviation is {round(dfh.duration.describe()[\"std\"], 2)} minutes\")",
   "id": "22370400ed3025a6",
   "outputs": [
    {
     "name": "stdout",
     "output_type": "stream",
     "text": [
      ">> Answer 2: The duration's standard deviation is 42.59 minutes\n"
     ]
    }
   ],
   "execution_count": 5
  },
  {
   "metadata": {
    "ExecuteTime": {
     "end_time": "2024-05-19T18:05:01.946107Z",
     "start_time": "2024-05-19T18:05:01.609704Z"
    }
   },
   "cell_type": "code",
   "source": [
    "# Q3 Dropping Outliers\n",
    "def duration_feature(df: pd.DataFrame):\n",
    "    df['duration'] = df.tpep_dropoff_datetime - df.tpep_pickup_datetime\n",
    "    df['duration'] = df.duration.dt.total_seconds() / 60\n",
    "    return df[(df.duration >= 1) & (df.duration <= 60)]\n",
    "\n",
    "dfh = duration_feature(dfh)\n",
    "round(dfh.duration.describe([.9, .92, .95, .98]), 2)"
   ],
   "id": "9bfa4afc5a54145",
   "outputs": [
    {
     "data": {
      "text/plain": [
       "count    3009173.00\n",
       "mean          14.20\n",
       "std            9.94\n",
       "min            1.00\n",
       "50%           11.55\n",
       "90%           27.27\n",
       "92%           29.65\n",
       "95%           34.77\n",
       "98%           44.50\n",
       "max           60.00\n",
       "Name: duration, dtype: float64"
      ]
     },
     "execution_count": 6,
     "metadata": {},
     "output_type": "execute_result"
    }
   ],
   "execution_count": 6
  },
  {
   "metadata": {
    "ExecuteTime": {
     "end_time": "2024-05-19T18:05:01.951052Z",
     "start_time": "2024-05-19T18:05:01.947779Z"
    }
   },
   "cell_type": "code",
   "source": "print(f\">> After removing the outliers, {(round(len(dfh)/count_with_outliers, 2))*100}% of the inital records are left\")",
   "id": "b26bfb1e7dc1709c",
   "outputs": [
    {
     "name": "stdout",
     "output_type": "stream",
     "text": [
      ">> After removing the outliers, 98.0% of the inital records are left\n"
     ]
    }
   ],
   "execution_count": 7
  },
  {
   "metadata": {
    "ExecuteTime": {
     "end_time": "2024-05-19T18:05:02.705312Z",
     "start_time": "2024-05-19T18:05:01.952604Z"
    }
   },
   "cell_type": "code",
   "source": [
    "# Q4 OneHot Encoding, straightforwardly used pd.get_dummies instead of vectorizer\n",
    "def one_hot(df: pd.DataFrame):\n",
    "    dummy_var1 = pd.get_dummies(df[\"PULocationID\"])\n",
    "    dummy_var2 = pd.get_dummies(df[\"DOLocationID\"])\n",
    "\n",
    "    return pd.concat([dummy_var1, dummy_var2], axis=1)\n",
    "\n",
    "features = one_hot(dfh)"
   ],
   "id": "cfcc10feb94228a6",
   "outputs": [],
   "execution_count": 8
  },
  {
   "metadata": {
    "ExecuteTime": {
     "end_time": "2024-05-19T18:05:02.711611Z",
     "start_time": "2024-05-19T18:05:02.706965Z"
    }
   },
   "cell_type": "code",
   "source": "print(f\">> The dimensonality of the feature matrix is {features.shape[1]}\")",
   "id": "abe7914a5d6c1ce",
   "outputs": [
    {
     "name": "stdout",
     "output_type": "stream",
     "text": [
      ">> The dimensonality of the feature matrix is 515\n"
     ]
    }
   ],
   "execution_count": 9
  },
  {
   "metadata": {
    "ExecuteTime": {
     "end_time": "2024-05-19T18:05:15.281794Z",
     "start_time": "2024-05-19T18:05:02.713380Z"
    }
   },
   "cell_type": "code",
   "source": [
    "# Q4 alternative: OneHot encoding with DictVectorizer\n",
    "from sklearn.feature_extraction import DictVectorizer\n",
    "\n",
    "df_vec = dfh.copy()\n",
    "\n",
    "categorical = ['PULocationID', 'DOLocationID']\n",
    "\n",
    "df_vec[categorical] = df_vec[categorical].astype(str)\n",
    "train_dicts = df_vec[categorical].to_dict(orient='records')\n",
    "\n",
    "dv = DictVectorizer()\n",
    "X_train = dv.fit_transform(train_dicts)\n",
    "\n",
    "print(f\">> The dimensonality of the feature matrix is {X_train.shape[1]}\")"
   ],
   "id": "4625a1e9f0afd598",
   "outputs": [
    {
     "name": "stdout",
     "output_type": "stream",
     "text": [
      ">> The dimensonality of the feature matrix is 515\n"
     ]
    }
   ],
   "execution_count": 10
  },
  {
   "metadata": {
    "ExecuteTime": {
     "end_time": "2024-05-19T18:05:32.156768Z",
     "start_time": "2024-05-19T18:05:15.283087Z"
    }
   },
   "cell_type": "code",
   "source": [
    "# Q5 Model Training, (plus again OneHot Encoding, but with sklearn)\n",
    "enc = OneHotEncoder(handle_unknown='ignore')\n",
    "model = LinearRegression()\n",
    "\n",
    "X_train = enc.fit_transform(dfh[['PULocationID', 'DOLocationID']].astype('str'))\n",
    "y_train = dfh['duration'].values\n",
    "model.fit(X_train, y_train)\n",
    "\n",
    "y_pred = model.predict(X_train)\n",
    "print(f\">> RMSE on the training data is {round(root_mean_squared_error(y_train, y_pred), 2)} minutes\")"
   ],
   "id": "e427fc10c1a6e530",
   "outputs": [
    {
     "name": "stdout",
     "output_type": "stream",
     "text": [
      ">> RMSE on the training data is 7.65 minutes\n"
     ]
    }
   ],
   "execution_count": 11
  },
  {
   "metadata": {
    "ExecuteTime": {
     "end_time": "2024-05-19T18:05:34.906855Z",
     "start_time": "2024-05-19T18:05:32.160680Z"
    }
   },
   "cell_type": "code",
   "source": [
    "# Q6 Validation Set Evaluation\n",
    "dfval = duration_feature(pd.read_parquet('../data/yellow_tripdata_2023-02.parquet'))\n",
    "\n",
    "X_val = enc.transform(dfval[['PULocationID', 'DOLocationID']].astype('str'))\n",
    "y_val = model.predict(X_val)\n",
    "\n",
    "print(f\">> RMSE for validation data is {round(root_mean_squared_error(dfval[\"duration\"].values, y_val), 2)} minutes\")"
   ],
   "id": "5fb36d18f9901de7",
   "outputs": [
    {
     "name": "stdout",
     "output_type": "stream",
     "text": [
      ">> RMSE for validation data is 7.81 minutes\n"
     ]
    }
   ],
   "execution_count": 12
  }
 ],
 "metadata": {
  "kernelspec": {
   "display_name": "Python 3",
   "language": "python",
   "name": "python3"
  },
  "language_info": {
   "codemirror_mode": {
    "name": "ipython",
    "version": 2
   },
   "file_extension": ".py",
   "mimetype": "text/x-python",
   "name": "python",
   "nbconvert_exporter": "python",
   "pygments_lexer": "ipython2",
   "version": "2.7.6"
  }
 },
 "nbformat": 4,
 "nbformat_minor": 5
}
